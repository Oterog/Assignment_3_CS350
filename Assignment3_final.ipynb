{
 "cells": [
  {
   "cell_type": "markdown",
   "id": "df588f7e",
   "metadata": {},
   "source": [
    "# Assignment_3_CS350\n",
    "\n",
    "<ins>Objective</ins>: An analysis of the fraud detection database, for the possibility of second-party fraud.\n",
    "\n",
    "<ins>Create</ins>: Jupyter notebook for the analysis, in Python\n",
    "\n",
    "<ins>Steps</ins>: For list of steps required to complete this assignment please visit Class 20 slides, there are 14 steps."
   ]
  },
  {
   "cell_type": "markdown",
   "id": "e90d7116",
   "metadata": {},
   "source": [
    "## Step 4: Write the appropriate notebook cells that will allow you to connect to the Neo4j server and to use Neo4j GDS."
   ]
  },
  {
   "cell_type": "code",
   "execution_count": null,
   "id": "dce1104d",
   "metadata": {},
   "outputs": [],
   "source": [
    "# Install required libraries\n",
    "!pip install neo4j graphdatascience"
   ]
  },
  {
   "cell_type": "code",
   "execution_count": null,
   "id": "1e16714f",
   "metadata": {
    "editable": true,
    "slideshow": {
     "slide_type": ""
    },
    "tags": []
   },
   "outputs": [],
   "source": [
    "# Example of checking database connection\n",
    "from neo4j import GraphDatabase\n",
    "driver = GraphDatabase.driver(\"bolt://localhost:7689\", auth=(\"neo4j\", \"password\"))\n",
    "with driver.session() as session:\n",
    "    result = session.run(\"RETURN 1\")\n",
    "    print(result.single())\n"
   ]
  },
  {
   "cell_type": "code",
   "execution_count": null,
   "id": "4251fc10-e46b-4ce8-a931-e9977d8e5e14",
   "metadata": {
    "editable": true,
    "slideshow": {
     "slide_type": ""
    },
    "tags": []
   },
   "outputs": [],
   "source": [
    "from neo4j import GraphDatabase\n",
    "from graphdatascience import GraphDataScience\n",
    "\n",
    "# Connection details\n",
    "bolt_uri = \"bolt://localhost:7689\"  # Change to your Neo4j Bolt URI. This is default\n",
    "username = \"neo4j\"                  # Replace with your username. This is default\n",
    "password = \"password\"               # Replace with your password. This is mine.\n",
    "\n",
    "# Connect to Neo4j\n",
    "driver = GraphDatabase.driver(bolt_uri, auth=(username, password))\n",
    "gds = GraphDataScience(bolt_uri, auth=(username, password))\n",
    "\n",
    "# Test connection\n",
    "try:\n",
    "    with driver.session() as session:\n",
    "        result = session.run(\"RETURN 'Connection successful!' AS message\")\n",
    "        print(result.single()[\"message\"])\n",
    "except Exception as e:\n",
    "    print(\"Connection failed:\", e)\n"
   ]
  },
  {
   "cell_type": "markdown",
   "id": "0d59ccb0",
   "metadata": {},
   "source": [
    "## Step 5: Create the SHARED_PII relationship (between clients) and the resulting subgraph."
   ]
  },
  {
   "cell_type": "code",
   "execution_count": null,
   "id": "7e44073d",
   "metadata": {},
   "outputs": [],
   "source": [
    "# Sample data to create Clients and SHARED_PII relationships\n",
    "def create_shared_pii_relationships(session):    \n",
    "    # Create a SHARED_PII relationship between them\n",
    "    session.run(\"\"\"\n",
    "        MATCH ( c:Client )-[ :HAS_EMAIL |:HAS_PHONE |:HAS_SSN ] -> (n) <-\n",
    "        [ :HAS_EMAIL |:HAS_PHONE |:HAS_SSN ]- ( d:Client )\n",
    "        WHERE id(c) < id(d)\n",
    "        WITH c, d, count(*) AS cnt\n",
    "        MERGE (c) - [ :SHARED_PII { count: cnt } ] -> (d)\n",
    "    \"\"\")\n",
    "\n",
    "# Execute the creation of relationships\n",
    "try:\n",
    "    with driver.session() as session:\n",
    "        create_shared_pii_relationships(session)\n",
    "        print(\"SHARED_PII relationship created between clients.\")\n",
    "except Exception as e:\n",
    "    print(\"Error creating relationship:\", e)\n"
   ]
  },
  {
   "cell_type": "markdown",
   "id": "eddfbeac",
   "metadata": {},
   "source": [
    "## Step 6: Make the in-memory projection of the graph in STEP 5."
   ]
  },
  {
   "cell_type": "code",
   "execution_count": null,
   "id": "652cbdb1",
   "metadata": {},
   "outputs": [],
   "source": [
    "# Create the in-memory projection of the graph\n",
    "def create_in_memory_projection(gds):\n",
    "    # Project the graph 'clientClusters' with nodes labeled 'Client' and relationships of type 'SHARED_PII'\n",
    "    try:\n",
    "        graph = gds.graph.project(\n",
    "            \"clientClusters\",  # Name of the projection\n",
    "            \"Client\",         # Node label to include (Client nodes)\n",
    "            \"SHARED_PII\"      # Relationship type to include (SHARED_PII relationships)\n",
    "        )\n",
    "        print(\"In-memory projection 'clientClusters' created.\")\n",
    "    except Exception as e:\n",
    "        print(\"Error creating in-memory projection:\", e)\n",
    "\n",
    "# Execute the in-memory projection\n",
    "try:\n",
    "    with driver.session() as session:\n",
    "        create_in_memory_projection(gds)\n",
    "except Exception as e:\n",
    "    print(\"Error executing projection:\", e)\n"
   ]
  },
  {
   "cell_type": "markdown",
   "id": "d6de9052-0874-44ae-8a6a-6a5182bf64d9",
   "metadata": {
    "editable": true,
    "slideshow": {
     "slide_type": ""
    },
    "tags": []
   },
   "source": [
    "## Step 7: use the WCC (Weakly Connected Components) algorithm, in stream mode, to identify clusters of Client nodes in the above projection graph;"
   ]
  },
  {
   "cell_type": "code",
   "execution_count": null,
   "id": "a19fc95d-0339-42d4-8d69-74eb19554f65",
   "metadata": {},
   "outputs": [],
   "source": [
    "import pandas as pd\n",
    "from neo4j import GraphDatabase\n",
    "from graphdatascience import GraphDataScience\n",
    "\n",
    "# Connection details\n",
    "bolt_uri = \"bolt://localhost:7689\"  # Adjust with your own URI\n",
    "username = \"neo4j\" # Adjust to your own username\n",
    "password = \"password\" # Adjust to your own password\n",
    "\n",
    "# Initialize the Neo4j driver\n",
    "driver = GraphDatabase.driver(bolt_uri, auth=(username, password))\n",
    "\n",
    "# Initialize GraphDataScience instance\n",
    "gds = GraphDataScience(bolt_uri, auth=(username, password))\n",
    "\n",
    "# Run WCC algorithm in stream mode\n",
    "query = \"\"\"\n",
    "CALL gds.wcc.stream(\n",
    "  'clientClusters', \n",
    "  {\n",
    "    nodeLabels: ['Client'],\n",
    "    relationshipTypes: ['SHARED_PII'],\n",
    "    consecutiveIds: true\n",
    "  }\n",
    ")\n",
    "YIELD nodeId, componentId\n",
    "RETURN gds.util.asNode(nodeId).id AS clientId, componentId AS clusterId\n",
    "\"\"\"\n",
    "\n",
    "# Execute the query and convert results to Pandas DataFrame\n",
    "with driver.session() as session:\n",
    "    result = session.run(query)\n",
    "    data = [{\"clientId\": record[\"clientId\"], \"clusterId\": record[\"clusterId\"]} for record in result]\n",
    "    df = pd.DataFrame(data)\n",
    "\n",
    "# Display the DataFrame\n",
    "print(df)"
   ]
  },
  {
   "cell_type": "markdown",
   "id": "e5e54673-e3d5-4939-968f-6bf23d878f34",
   "metadata": {},
   "source": [
    "## Step 8 mark each client that belongs to a cluster of size at least 2 as possibly (not provably) belonging to a fraud ring;"
   ]
  },
  {
   "cell_type": "code",
   "execution_count": null,
   "id": "9b1cd0db-223f-4a7b-94e2-6544af9b8383",
   "metadata": {},
   "outputs": [],
   "source": [
    "from neo4j import GraphDatabase\n",
    "from graphdatascience import GraphDataScience\n",
    "\n",
    "# Connection details\n",
    "bolt_uri = \"bolt://localhost:7689\"  # Adjust with your own URI\n",
    "username = \"neo4j\"\n",
    "password = \"password\"\n",
    "\n",
    "# Initialize the Neo4j driver\n",
    "driver = GraphDatabase.driver(bolt_uri, auth=(username, password))\n",
    "\n",
    "# Initialize GraphDataScience instance\n",
    "gds = GraphDataScience(bolt_uri, auth=(username, password))\n",
    "\n",
    "# Step 8 - Mark clients in clusters with size >= 2\n",
    "query = \"\"\"\n",
    "CALL gds.wcc.stream(\n",
    "  'clientClusters', \n",
    "  {\n",
    "    nodeLabels: ['Client'],\n",
    "    relationshipTypes: ['SHARED_PII'],\n",
    "    consecutiveIds: true\n",
    "  }\n",
    ")\n",
    "YIELD nodeId, componentId\n",
    "WITH gds.util.asNode(nodeId) AS clientId, componentId AS clusterId\n",
    "WITH clusterId, collect(clientId.id) AS clients\n",
    "WITH clusterId, clients, size(clients) AS clusterSize\n",
    "WHERE clusterSize >= 2\n",
    "UNWIND clients AS client\n",
    "MATCH (c:Client) WHERE c.id = client\n",
    "SET c.secondPartyFraudRing = clusterId\n",
    "\"\"\"\n",
    "\n",
    "# Execute the query to mark the clients\n",
    "with driver.session() as session:\n",
    "    session.run(query)\n",
    "\n",
    "print(\"Clients in clusters of size >= 2 have been marked as possible fraudsters.\")"
   ]
  },
  {
   "cell_type": "markdown",
   "id": "7a9fa227-e85c-40dc-a1a6-59a368c93d60",
   "metadata": {},
   "source": [
    "## Step 9"
   ]
  },
  {
   "cell_type": "code",
   "execution_count": null,
   "id": "03b81baa-c263-4ad2-833b-a88031cfca81",
   "metadata": {},
   "outputs": [],
   "source": [
    "from neo4j import GraphDatabase\n",
    "from graphdatascience import GraphDataScience\n",
    "\n",
    "# Connection details\n",
    "bolt_uri = \"bolt://localhost:7689\"  # Adjust with your own URI\n",
    "username = \"neo4j\"\n",
    "password = \"password\"\n",
    "\n",
    "# Initialize the Neo4j driver\n",
    "driver = GraphDatabase.driver(bolt_uri, auth=(username, password))\n",
    "\n",
    "# Initialize GraphDataScience instance\n",
    "gds = GraphDataScience(bolt_uri, auth=(username, password))\n",
    "\n",
    "# Step 9 - Create the bipartite graph for client similarity based on shared PIIs\n",
    "query = \"\"\"\n",
    "MATCH (c:Client) \n",
    "WHERE c.secondPartyFraudRing IS NOT NULL\n",
    "WITH collect(c) AS clients\n",
    "MATCH (n) WHERE n:Email OR n:Phone OR n:SSN\n",
    "WITH clients, collect(n) AS piis\n",
    "WITH clients + piis AS nodes\n",
    "MATCH (c:Client) -[:HAS_EMAIL | :HAS_PHONE | :HAS_SSN]->(p)\n",
    "WHERE c.secondPartyFraudRing IS NOT NULL\n",
    "WITH nodes, collect({source: c, target: p}) AS relationships\n",
    "CALL gds.graph.project.cypher(\n",
    "  'similarity',\n",
    "  \"UNWIND $nodes AS n RETURN id(n) AS id, labels(n) AS labels\",\n",
    "  \"UNWIND $relationships AS r RETURN id(r['source']) AS source, id(r['target']) AS target, 'HAS_PII' AS type\",\n",
    "  {parameters: {nodes: nodes, relationships: relationships}}\n",
    ")\n",
    "YIELD graphName, nodeCount, relationshipCount\n",
    "RETURN graphName, nodeCount, relationshipCount\n",
    "\"\"\"\n",
    "\n",
    "# Execute the query to create the bipartite graph\n",
    "with driver.session() as session:\n",
    "    result = session.run(query)\n",
    "    for record in result:\n",
    "        print(f\"Graph Name: {record['graphName']}\")\n",
    "        print(f\"Node Count: {record['nodeCount']}\")\n",
    "        print(f\"Relationship Count: {record['relationshipCount']}\")\n",
    "\n",
    "print(\"Bipartite graph 'similarity' created for client PII similarity.\")\n"
   ]
  },
  {
   "cell_type": "markdown",
   "id": "106aa03d-f1bf-4f4f-a7a9-e87dbde6b232",
   "metadata": {},
   "source": [
    "## Step 10"
   ]
  },
  {
   "cell_type": "code",
   "execution_count": null,
   "id": "3e41b66d-d2a2-417b-9395-4403df962f8d",
   "metadata": {},
   "outputs": [],
   "source": [
    "from neo4j import GraphDatabase\n",
    "from graphdatascience import GraphDataScience\n",
    "\n",
    "# Connection details\n",
    "bolt_uri = \"bolt://localhost:7689\"  # Adjust with your own URI\n",
    "username = \"neo4j\"\n",
    "password = \"password\"\n",
    "\n",
    "# Initialize the Neo4j driver\n",
    "driver = GraphDatabase.driver(bolt_uri, auth=(username, password))\n",
    "\n",
    "# Initialize GraphDataScience instance\n",
    "gds = GraphDataScience(bolt_uri, auth=(username, password))\n",
    "\n",
    "# Cypher query to run nodeSimilarity algorithm\n",
    "cypher_query_similarity = \"\"\"\n",
    "CALL gds.nodeSimilarity.mutate(\n",
    "    'similarity',  // The name of the graph to mutate\n",
    "    {\n",
    "        mutateProperty: 'jaccardScore',\n",
    "        mutateRelationshipType: 'SIMILAR_TO',\n",
    "        topK: 15  // Top 15 most similar nodes\n",
    "    }\n",
    ")\n",
    "\"\"\"\n",
    "\n",
    "# Run the Cypher query via the Neo4j driver\n",
    "with driver.session() as session:\n",
    "    result = session.run(cypher_query_similarity)\n",
    "    print(\"Successfully  computed similarity scores.\")"
   ]
  },
  {
   "cell_type": "markdown",
   "id": "37b03f42-eee5-48cd-b2ce-3e1047c99cbd",
   "metadata": {},
   "source": [
    "## Step 11"
   ]
  },
  {
   "cell_type": "code",
   "execution_count": null,
   "id": "cb84ddb5-dde9-4c1c-8727-942878dff90a",
   "metadata": {},
   "outputs": [],
   "source": [
    "from neo4j import GraphDatabase\n",
    "\n",
    "# Neo4j connection details\n",
    "uri = \"bolt://localhost:7689\"  # Replace with your Neo4j URI\n",
    "username = \"neo4j\"  # Replace with your Neo4j username\n",
    "password = \"password\"  # Replace with your Neo4j password\n",
    "driver = GraphDatabase.driver(uri, auth=(username, password))\n",
    "\n",
    "# Function to write the relationships\n",
    "def write_relationships(tx, graph_name):\n",
    "    query = \"\"\"\n",
    "    CALL gds.graph.writeRelationship(\n",
    "        $graph_name,\n",
    "        'SIMILAR_TO',\n",
    "        'jaccardScore'\n",
    "    )\n",
    "    YIELD relationshipsWritten\n",
    "    RETURN relationshipsWritten\n",
    "    \"\"\"\n",
    "    result = tx.run(query, graph_name=graph_name)\n",
    "    return result.single()\n",
    "\n",
    "# Run the node similarity algorithm in mutate mode\n",
    "with driver.session() as session:\n",
    "    result = session.execute_write(write_relationships, graph_name='similarity')\n",
    "    print(f\"Relationships Created: {result['relationshipsWritten']}\")"
   ]
  },
  {
   "cell_type": "markdown",
   "id": "c7f5bb35-0914-4171-b836-7ca99a9b2ded",
   "metadata": {},
   "source": [
    "## Step 12"
   ]
  },
  {
   "cell_type": "code",
   "execution_count": null,
   "id": "5a8193d9-2245-4a19-8e14-587e8ef1800d",
   "metadata": {},
   "outputs": [],
   "source": [
    "from neo4j import GraphDatabase\n",
    "from graphdatascience import GraphDataScience\n",
    "\n",
    "# Neo4j connection details\n",
    "uri = \"bolt://localhost:7689\"  # Replace with your Neo4j URI\n",
    "username = \"neo4j\"  # Replace with your username\n",
    "password = \"password\"  # Replace with your password\n",
    "\n",
    "# Create a Neo4j driver and GDS instance\n",
    "driver = GraphDatabase.driver(uri, auth=(username, password))\n",
    "gds = GraphDataScience(driver)\n",
    "\n",
    "# Create a function to run the gds.degree.write procedure\n",
    "def compute_degree_and_write(tx, graph_name):\n",
    "    query = \"\"\"\n",
    "    CALL gds.degree.write(\n",
    "        $graph_name,\n",
    "        {\n",
    "            nodeLabels: ['Client'],\n",
    "            relationshipTypes: ['SIMILAR_TO'],\n",
    "            relationshipWeightProperty: 'jaccardScore',\n",
    "            writeProperty: 'secondPartyFraudScore'\n",
    "        }\n",
    "    )\n",
    "    \"\"\"\n",
    "    tx.run(query, graph_name='similarity')\n",
    "\n",
    "# Run the degree calculation and writing procedure in WRITE mode\n",
    "with driver.session() as session:\n",
    "    session.execute_write(compute_degree_and_write, 'similarity')\n",
    "    print(\"Second party fraud property successfully written.\")"
   ]
  },
  {
   "cell_type": "markdown",
   "id": "a12aedbd-fa1a-4f41-b382-9633214f7fa6",
   "metadata": {},
   "source": [
    "## Step 13"
   ]
  },
  {
   "cell_type": "code",
   "execution_count": null,
   "id": "a4d53e2b-37a0-4fc6-9c8e-53b871ec5443",
   "metadata": {},
   "outputs": [],
   "source": [
    "from neo4j import GraphDatabase\n",
    "\n",
    "# Neo4j connection details\n",
    "uri = \"bolt://localhost:7689\"  # Replace with your Neo4j URI\n",
    "username = \"neo4j\"  # Replace with your Neo4j username\n",
    "password = \"password\"  # Replace with your Neo4j password\n",
    "driver = GraphDatabase.driver(uri, auth=(username, password))\n",
    "\n",
    "# Function to label potential fraudsters based on degree of centrality\n",
    "def label_potential_fraudster(tx, graph_name):\n",
    "    query = \"\"\"\n",
    "    MATCH (c:Client)\n",
    "    WHERE c.secondPartyFraudScore IS NOT NULL\n",
    "    WITH percentileCont(c.secondPartyFraudScore, 0.95) AS threshold\n",
    "        MATCH (c:Client)\n",
    "        WHERE c.secondPartyFraudScore > threshold\n",
    "        SET c.SecondPartyFraudster = true\n",
    "    \"\"\"\n",
    "    tx.run(query, graph_name=graph_name)\n",
    "\n",
    "# Execute the labeling within a write transaction\n",
    "with driver.session() as session:\n",
    "    session.execute_write(label_potential_fraudster, graph_name='similarity')\n",
    "    print(\"Successfully labelled potential fraudsters with a high degree of centrality.\")"
   ]
  },
  {
   "cell_type": "markdown",
   "id": "ae85ac1f-a643-4be6-a1ac-330af0fbc7bd",
   "metadata": {},
   "source": [
    "## Step 14"
   ]
  },
  {
   "cell_type": "code",
   "execution_count": null,
   "id": "8ec77593-a7d5-492d-be6f-83daefa4cee4",
   "metadata": {},
   "outputs": [],
   "source": [
    "import pandas as pd\n",
    "from neo4j import GraphDatabase\n",
    "\n",
    "# Neo4j connection details\n",
    "uri = \"bolt://localhost:7689\"  # Replace with your Memgraph URI\n",
    "username = \"neo4j\"  # Replace with your Neo4j username\n",
    "password = \"password\"  # Replace with your Neo4j password\n",
    "driver = GraphDatabase.driver(uri, auth=(username, password))\n",
    "\n",
    "# Function to fetch fraudster clients and return as a Pandas DataFrame\n",
    "def fetch_fraudster_clients(tx):\n",
    "    query = \"\"\"\n",
    "    MATCH (c:Client)\n",
    "    WHERE c.SecondPartyFraudster = true\n",
    "    RETURN c.name AS clientName, ID(c) AS clientId\n",
    "    \"\"\"\n",
    "    result = tx.run(query)\n",
    "    \n",
    "    # Collect results into a list of dictionaries to make it easier to import into a Pandas DataFrame\n",
    "    clients = [{\"clientName\": record[\"clientName\"], \"clientId\": record[\"clientId\"]} for record in result]\n",
    "    \n",
    "    # Convert to Pandas DataFrame\n",
    "    df = pd.DataFrame(clients)\n",
    "    return df\n",
    "\n",
    "# Execute the query within a read transaction\n",
    "with driver.session() as session:\n",
    "    fraudster_df = session.execute_read(fetch_fraudster_clients)\n",
    "    \n",
    "    # Display the results in the notebook using Pandas\n",
    "    if not fraudster_df.empty:\n",
    "        print(\"List of potential fraudsters:\")\n",
    "        display(fraudster_df)  # display() is used in Jupyter to render the DataFrame\n",
    "    else:\n",
    "        print(\"No potential fraudsters found.\")"
   ]
  },
  {
   "cell_type": "code",
   "execution_count": null,
   "id": "c811cb01-c8ab-479b-ae53-0901090baff3",
   "metadata": {},
   "outputs": [],
   "source": []
  }
 ],
 "metadata": {
  "kernelspec": {
   "display_name": "Python 3 (ipykernel)",
   "language": "python",
   "name": "python3"
  },
  "language_info": {
   "codemirror_mode": {
    "name": "ipython",
    "version": 3
   },
   "file_extension": ".py",
   "mimetype": "text/x-python",
   "name": "python",
   "nbconvert_exporter": "python",
   "pygments_lexer": "ipython3",
   "version": "3.9.7"
  }
 },
 "nbformat": 4,
 "nbformat_minor": 5
}
