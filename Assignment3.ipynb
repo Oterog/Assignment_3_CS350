{
 "cells": [
  {
   "cell_type": "markdown",
   "id": "6ccf3b29-bba1-4e8f-a384-57334ea86632",
   "metadata": {},
   "source": [
    "# Assignment_3_CS350\n",
    "\n",
    "<ins>Objective</ins>: An analysis of the fraud detection database, for the possibility of second-party fraud.\n",
    "\n",
    "<ins>Create</ins>: Jupyter notebook for the analysis, in Python\n",
    "\n",
    "<ins>Steps</ins>: For list of steps required to complete this assignment please visit Class 20 slides, there are 14 steps."
   ]
  },
  {
   "cell_type": "code",
   "execution_count": 6,
   "id": "c25e96de-ce62-4be6-aea3-178e80dcae49",
   "metadata": {},
   "outputs": [
    {
     "name": "stdout",
     "output_type": "stream",
     "text": [
      "Requirement already satisfied: neo4j in c:\\users\\gabri\\anaconda3\\envs\\assignment3\\lib\\site-packages (5.27.0)\n",
      "Requirement already satisfied: graphdatascience in c:\\users\\gabri\\anaconda3\\envs\\assignment3\\lib\\site-packages (1.12)\n",
      "Requirement already satisfied: pytz in c:\\users\\gabri\\anaconda3\\envs\\assignment3\\lib\\site-packages (from neo4j) (2024.1)\n",
      "Requirement already satisfied: multimethod<2.0,>=1.0 in c:\\users\\gabri\\anaconda3\\envs\\assignment3\\lib\\site-packages (from graphdatascience) (1.12)\n",
      "Requirement already satisfied: numpy<2.0 in c:\\users\\gabri\\anaconda3\\envs\\assignment3\\lib\\site-packages (from graphdatascience) (1.26.4)\n",
      "Requirement already satisfied: pandas<3.0,>=1.0 in c:\\users\\gabri\\anaconda3\\envs\\assignment3\\lib\\site-packages (from graphdatascience) (2.2.3)\n",
      "Requirement already satisfied: pyarrow<17.0,>=14.0.1 in c:\\users\\gabri\\anaconda3\\envs\\assignment3\\lib\\site-packages (from graphdatascience) (16.1.0)\n",
      "Requirement already satisfied: textdistance<5.0,>=4.0 in c:\\users\\gabri\\anaconda3\\envs\\assignment3\\lib\\site-packages (from graphdatascience) (4.6.3)\n",
      "Requirement already satisfied: tqdm<5.0,>=4.0 in c:\\users\\gabri\\anaconda3\\envs\\assignment3\\lib\\site-packages (from graphdatascience) (4.66.5)\n",
      "Requirement already satisfied: typing-extensions<5.0,>=4.0 in c:\\users\\gabri\\anaconda3\\envs\\assignment3\\lib\\site-packages (from graphdatascience) (4.11.0)\n",
      "Requirement already satisfied: requests in c:\\users\\gabri\\anaconda3\\envs\\assignment3\\lib\\site-packages (from graphdatascience) (2.32.3)\n",
      "Requirement already satisfied: python-dateutil>=2.8.2 in c:\\users\\gabri\\anaconda3\\envs\\assignment3\\lib\\site-packages (from pandas<3.0,>=1.0->graphdatascience) (2.9.0.post0)\n",
      "Requirement already satisfied: tzdata>=2022.7 in c:\\users\\gabri\\anaconda3\\envs\\assignment3\\lib\\site-packages (from pandas<3.0,>=1.0->graphdatascience) (2023.3)\n",
      "Requirement already satisfied: colorama in c:\\users\\gabri\\anaconda3\\envs\\assignment3\\lib\\site-packages (from tqdm<5.0,>=4.0->graphdatascience) (0.4.6)\n",
      "Requirement already satisfied: charset-normalizer<4,>=2 in c:\\users\\gabri\\anaconda3\\envs\\assignment3\\lib\\site-packages (from requests->graphdatascience) (3.3.2)\n",
      "Requirement already satisfied: idna<4,>=2.5 in c:\\users\\gabri\\anaconda3\\envs\\assignment3\\lib\\site-packages (from requests->graphdatascience) (3.7)\n",
      "Requirement already satisfied: urllib3<3,>=1.21.1 in c:\\users\\gabri\\anaconda3\\envs\\assignment3\\lib\\site-packages (from requests->graphdatascience) (2.2.3)\n",
      "Requirement already satisfied: certifi>=2017.4.17 in c:\\users\\gabri\\anaconda3\\envs\\assignment3\\lib\\site-packages (from requests->graphdatascience) (2024.8.30)\n",
      "Requirement already satisfied: six>=1.5 in c:\\users\\gabri\\anaconda3\\envs\\assignment3\\lib\\site-packages (from python-dateutil>=2.8.2->pandas<3.0,>=1.0->graphdatascience) (1.16.0)\n"
     ]
    }
   ],
   "source": [
    "# Install required libraries\n",
    "!pip install neo4j graphdatascience"
   ]
  },
  {
   "cell_type": "code",
   "execution_count": 7,
   "id": "53fdf40e-c30c-4384-9cdb-3de6e4f6bd56",
   "metadata": {},
   "outputs": [
    {
     "name": "stdout",
     "output_type": "stream",
     "text": [
      "Connection successful!\n"
     ]
    }
   ],
   "source": [
    "from neo4j import GraphDatabase\n",
    "from graphdatascience import GraphDataScience\n",
    "\n",
    "# Connection details\n",
    "bolt_uri = \"bolt://localhost:7687\"  # Change to your Neo4j Bolt URI\n",
    "username = \"neo4j\"                  # Replace with your username\n",
    "password = \"Koolook1\"               # Replace with your password\n",
    "\n",
    "# Connect to Neo4j\n",
    "driver = GraphDatabase.driver(bolt_uri, auth=(username, password))\n",
    "gds = GraphDataScience(bolt_uri, auth=(username, password))\n",
    "\n",
    "# Test connection\n",
    "try:\n",
    "    with driver.session() as session:\n",
    "        result = session.run(\"RETURN 'Connection successful!' AS message\")\n",
    "        print(result.single()[\"message\"])\n",
    "except Exception as e:\n",
    "    print(\"Connection failed:\", e)\n"
   ]
  },
  {
   "cell_type": "code",
   "execution_count": 8,
   "id": "3ca4f17a-80f2-46c3-9763-a7b9a861dc4c",
   "metadata": {},
   "outputs": [
    {
     "name": "stdout",
     "output_type": "stream",
     "text": [
      "Error creating in-memory graph: {code: Neo.ClientError.Procedure.ProcedureCallFailed} {message: Failed to invoke procedure `gds.graph.project`: Caused by: java.lang.IllegalArgumentException: Invalid node projection, one or more labels not found: 'PERSON'}\n",
      "Error running PageRank: The parameter 'G' takes a `Graph` object, but received string 'example_graph'. To resolve a graph name string into a `Graph` object, please use `gds.graph.get`\n"
     ]
    }
   ],
   "source": [
    "# Example: Create an in-memory graph and run PageRank\n",
    "graph_name = \"example_graph\"\n",
    "\n",
    "# Create an in-memory graph from the existing database nodes and relationships\n",
    "try:\n",
    "    gds.graph.project(\n",
    "        graph_name,\n",
    "        node_spec=\"PERSON\",  # Change to your node label\n",
    "        relationship_spec=\"FRIEND\"  # Change to your relationship type\n",
    "    )\n",
    "    print(f\"In-memory graph '{graph_name}' created.\")\n",
    "except Exception as e:\n",
    "    print(\"Error creating in-memory graph:\", e)\n",
    "\n",
    "# Run PageRank on the in-memory graph\n",
    "try:\n",
    "    result = gds.pageRank.stream(graph_name)\n",
    "    print(\"PageRank Results:\")\n",
    "    for record in result:\n",
    "        print(record)\n",
    "except Exception as e:\n",
    "    print(\"Error running PageRank:\", e)\n",
    "\n",
    "# Drop the in-memory graph when done\n",
    "gds.graph.drop(graph_name)\n"
   ]
  }
 ],
 "metadata": {
  "kernelspec": {
   "display_name": "Python 3 (ipykernel)",
   "language": "python",
   "name": "python3"
  },
  "language_info": {
   "codemirror_mode": {
    "name": "ipython",
    "version": 3
   },
   "file_extension": ".py",
   "mimetype": "text/x-python",
   "name": "python",
   "nbconvert_exporter": "python",
   "pygments_lexer": "ipython3",
   "version": "3.12.7"
  }
 },
 "nbformat": 4,
 "nbformat_minor": 5
}
