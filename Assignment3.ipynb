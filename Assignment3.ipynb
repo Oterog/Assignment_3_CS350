{
 "cells": [
  {
   "cell_type": "markdown",
   "id": "6ccf3b29-bba1-4e8f-a384-57334ea86632",
   "metadata": {},
   "source": [
    "# Assignment_3_CS350\n",
    "\n",
    "<ins>Objective</ins>: An analysis of the fraud detection database, for the possibility of second-party fraud.\n",
    "\n",
    "<ins>Create</ins>: Jupyter notebook for the analysis, in Python\n",
    "\n",
    "<ins>Steps</ins>: For list of steps required to complete this assignment please visit Class 20 slides, there are 14 steps."
   ]
  },
  {
   "cell_type": "code",
   "execution_count": null,
   "id": "c25e96de-ce62-4be6-aea3-178e80dcae49",
   "metadata": {},
   "outputs": [],
   "source": [
    "# Install required libraries\n",
    "!pip install neo4j graphdatascience"
   ]
  },
  {
   "cell_type": "code",
   "execution_count": null,
   "id": "53fdf40e-c30c-4384-9cdb-3de6e4f6bd56",
   "metadata": {},
   "outputs": [],
   "source": [
    "from neo4j import GraphDatabase\n",
    "from graphdatascience import GraphDataScience\n",
    "\n",
    "# Connection details\n",
    "bolt_uri = \"bolt://localhost:7687\"  # Change to your Neo4j Bolt URI\n",
    "username = \"neo4j\"                  # Replace with your username\n",
    "password = \"Koolook1\"               # Replace with your password\n",
    "\n",
    "# Connect to Neo4j\n",
    "driver = GraphDatabase.driver(bolt_uri, auth=(username, password))\n",
    "gds = GraphDataScience(bolt_uri, auth=(username, password))\n",
    "\n",
    "# Test connection\n",
    "try:\n",
    "    with driver.session() as session:\n",
    "        result = session.run(\"RETURN 'Connection successful!' AS message\")\n",
    "        print(result.single()[\"message\"])\n",
    "except Exception as e:\n",
    "    print(\"Connection failed:\", e)\n"
   ]
  }
 ],
 "metadata": {
  "kernelspec": {
   "display_name": "Python 3 (ipykernel)",
   "language": "python",
   "name": "python3"
  },
  "language_info": {
   "codemirror_mode": {
    "name": "ipython",
    "version": 3
   },
   "file_extension": ".py",
   "mimetype": "text/x-python",
   "name": "python",
   "nbconvert_exporter": "python",
   "pygments_lexer": "ipython3",
   "version": "3.12.7"
  }
 },
 "nbformat": 4,
 "nbformat_minor": 5
}
