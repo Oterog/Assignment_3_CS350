{
 "cells": [
  {
   "cell_type": "markdown",
   "id": "df588f7e",
   "metadata": {},
   "source": [
    "# Assignment_3_CS350\n",
    "\n",
    "<ins>Objective</ins>: An analysis of the fraud detection database, for the possibility of second-party fraud.\n",
    "\n",
    "<ins>Create</ins>: Jupyter notebook for the analysis, in Python\n",
    "\n",
    "<ins>Steps</ins>: For list of steps required to complete this assignment please visit Class 20 slides, there are 14 steps."
   ]
  },
  {
   "cell_type": "markdown",
   "id": "e90d7116",
   "metadata": {},
   "source": [
    "## Step 4: Write the appropriate notebook cells that will allow you to connect to the Neo4j server and to use Neo4j GDS."
   ]
  },
  {
   "cell_type": "code",
   "execution_count": null,
   "id": "dce1104d",
   "metadata": {},
   "outputs": [],
   "source": [
    "# Install required libraries\n",
    "!pip install neo4j graphdatascience"
   ]
  },
  {
   "cell_type": "code",
   "execution_count": null,
   "id": "1e16714f",
   "metadata": {},
   "outputs": [],
   "source": [
    "from neo4j import GraphDatabase\n",
    "from graphdatascience import GraphDataScience\n",
    "\n",
    "# Connection details\n",
    "bolt_uri = \"bolt://localhost:7687\"  # Change to your Neo4j Bolt URI. This is default\n",
    "username = \"neo4j\"                  # Replace with your username. This is default\n",
    "password = \"Koolook1\"               # Replace with your password. This is mine.\n",
    "\n",
    "# Connect to Neo4j\n",
    "driver = GraphDatabase.driver(bolt_uri, auth=(username, password))\n",
    "gds = GraphDataScience(bolt_uri, auth=(username, password))\n",
    "\n",
    "# Test connection\n",
    "try:\n",
    "    with driver.session() as session:\n",
    "        result = session.run(\"RETURN 'Connection successful!' AS message\")\n",
    "        print(result.single()[\"message\"])\n",
    "except Exception as e:\n",
    "    print(\"Connection failed:\", e)\n"
   ]
  },
  {
   "cell_type": "markdown",
   "id": "0d59ccb0",
   "metadata": {},
   "source": [
    "## Step 5: Create the SHARED_PII relationship (between clients) and the resulting subgraph."
   ]
  },
  {
   "cell_type": "code",
   "execution_count": null,
   "id": "7e44073d",
   "metadata": {},
   "outputs": [],
   "source": [
    "# Sample data to create Clients and SHARED_PII relationships\n",
    "def create_shared_pii_relationships(session):\n",
    "    # Create two client nodes\n",
    "    session.run(\"CREATE (c1:Client {id: 1, name: 'John Doe'})\")\n",
    "    session.run(\"CREATE (c2:Client {id: 2, name: 'Jane Smith'})\")\n",
    "    \n",
    "    # Create a SHARED_PII relationship between them\n",
    "    session.run(\"\"\"\n",
    "        MATCH (c1:Client {id: 1}), (c2:Client {id: 2})\n",
    "        CREATE (c1)-[:SHARED_PII]->(c2)\n",
    "    \"\"\")\n",
    "\n",
    "# Execute the creation of relationships\n",
    "try:\n",
    "    with driver.session() as session:\n",
    "        create_shared_pii_relationships(session)\n",
    "        print(\"SHARED_PII relationship created between clients.\")\n",
    "except Exception as e:\n",
    "    print(\"Error creating relationship:\", e)\n"
   ]
  },
  {
   "cell_type": "code",
   "execution_count": null,
   "id": "6c51a100",
   "metadata": {},
   "outputs": [],
   "source": [
    "# Visualize the schema using Cypher command\n",
    "def visualize_schema(session):\n",
    "    # Visualize the database schema\n",
    "    result = session.run(\"CALL db.schema.visualization()\")\n",
    "    for record in result:\n",
    "        print(record)\n",
    "\n",
    "# Visualize the schema\n",
    "try:\n",
    "    with driver.session() as session:\n",
    "        visualize_schema(session)\n",
    "except Exception as e:\n",
    "    print(\"Error visualizing schema:\", e)"
   ]
  },
  {
   "cell_type": "markdown",
   "id": "c2524ce3",
   "metadata": {},
   "source": [
    "## Step 6: Make the in-memory projection of the graph in STEP 5."
   ]
  },
  {
   "cell_type": "code",
   "execution_count": null,
   "id": "652cbdb1",
   "metadata": {},
   "outputs": [],
   "source": [
    "# Create the in-memory projection of the graph\n",
    "def create_in_memory_projection(gds):\n",
    "    # Project the graph 'clientClusters' with nodes labeled 'Client' and relationships of type 'SHARED_PII'\n",
    "    try:\n",
    "        graph = gds.graph.project(\n",
    "            \"clientClusters\",  # Name of the projection\n",
    "            \"Client\",         # Node label to include (Client nodes)\n",
    "            \"SHARED_PII\"      # Relationship type to include (SHARED_PII relationships)\n",
    "        )\n",
    "        print(\"In-memory projection 'clientClusters' created.\")\n",
    "    except Exception as e:\n",
    "        print(\"Error creating in-memory projection:\", e)\n",
    "\n",
    "# Execute the in-memory projection\n",
    "try:\n",
    "    with driver.session() as session:\n",
    "        create_in_memory_projection(gds)\n",
    "except Exception as e:\n",
    "    print(\"Error executing projection:\", e)\n"
   ]
  },
  {
   "cell_type": "markdown",
   "id": "eddfbeac",
   "metadata": {},
   "source": [
    "## Step 7: use the WCC (Weakly Connected Components) algorithm, in stream mode, to identify clusters of Client nodes in the above projection graph;"
   ]
  },
  {
   "cell_type": "code",
   "execution_count": null,
   "id": "afa36936",
   "metadata": {},
   "outputs": [],
   "source": [
    "import pandas as pd\n",
    "from neo4j import GraphDatabase\n",
    "from graphdatascience import GraphDataScience\n",
    "\n",
    "# Connection details\n",
    "bolt_uri = \"bolt://localhost:7689\"  # Adjust with your own URI\n",
    "username = \"neo4j\" # Adjust to your own username\n",
    "password = \"password\" # Adjust to your own password\n",
    "\n",
    "# Initialize the Neo4j driver\n",
    "driver = GraphDatabase.driver(bolt_uri, auth=(username, password))\n",
    "\n",
    "# Initialize GraphDataScience instance\n",
    "gds = GraphDataScience(bolt_uri, auth=(username, password))\n",
    "\n",
    "# Run WCC algorithm in stream mode\n",
    "query = \"\"\"\n",
    "CALL gds.wcc.stream(\n",
    "  'clientClusters', \n",
    "  {\n",
    "    nodeLabels: ['Client'],\n",
    "    relationshipTypes: ['SHARED_PII'],\n",
    "    consecutiveIds: true\n",
    "  }\n",
    ")\n",
    "YIELD nodeId, componentId\n",
    "RETURN gds.util.asNode(nodeId).id AS clientId, componentId AS clusterId\n",
    "\"\"\"\n",
    "\n",
    "# Execute the query and convert results to Pandas DataFrame\n",
    "with driver.session() as session:\n",
    "    result = session.run(query)\n",
    "    data = [{\"clientId\": record[\"clientId\"], \"clusterId\": record[\"clusterId\"]} for record in result]\n",
    "    df = pd.DataFrame(data)\n",
    "\n",
    "# Display the DataFrame\n",
    "print(df)"
   ]
  },
  {
   "cell_type": "markdown",
   "id": "764bbc02",
   "metadata": {},
   "source": [
    "## Step 8 mark each client that belongs to a cluster of size at least 2 as possibly (not provably) belonging to a fraud ring;\n"
   ]
  },
  {
   "cell_type": "code",
   "execution_count": null,
   "id": "98e1d1a1",
   "metadata": {},
   "outputs": [],
   "source": [
    "from neo4j import GraphDatabase\n",
    "from graphdatascience import GraphDataScience\n",
    "\n",
    "# Connection details\n",
    "bolt_uri = \"bolt://localhost:7689\"  # Adjust with your own URI\n",
    "username = \"neo4j\"\n",
    "password = \"password\"\n",
    "\n",
    "# Initialize the Neo4j driver\n",
    "driver = GraphDatabase.driver(bolt_uri, auth=(username, password))\n",
    "\n",
    "# Initialize GraphDataScience instance\n",
    "gds = GraphDataScience(bolt_uri, auth=(username, password))\n",
    "\n",
    "# Step 8 - Mark clients in clusters with size >= 2\n",
    "query = \"\"\"\n",
    "CALL gds.wcc.stream(\n",
    "  'clientClusters', \n",
    "  {\n",
    "    nodeLabels: ['Client'],\n",
    "    relationshipTypes: ['SHARED_PII'],\n",
    "    consecutiveIds: true\n",
    "  }\n",
    ")\n",
    "YIELD nodeId, componentId\n",
    "WITH gds.util.asNode(nodeId) AS clientId, componentId AS clusterId\n",
    "WITH clusterId, collect(clientId.id) AS clients\n",
    "WITH clusterId, clients, size(clients) AS clusterSize\n",
    "WHERE clusterSize >= 2\n",
    "UNWIND clients AS client\n",
    "MATCH (c:Client) WHERE c.id = client\n",
    "SET c.secondPartyFraudRing = clusterId\n",
    "\"\"\"\n",
    "\n",
    "# Execute the query to mark the clients\n",
    "with driver.session() as session:\n",
    "    session.run(query)\n",
    "\n",
    "print(\"Clients in clusters of size >= 2 have been marked as possible fraudsters.\")"
   ]
  }
 ],
 "metadata": {
  "kernelspec": {
   "display_name": "Python 3 (ipykernel)",
   "language": "python",
   "name": "python3"
  },
  "language_info": {
   "codemirror_mode": {
    "name": "ipython",
    "version": 3
   },
   "file_extension": ".py",
   "mimetype": "text/x-python",
   "name": "python",
   "nbconvert_exporter": "python",
   "pygments_lexer": "ipython3",
   "version": "3.12.7"
  }
 },
 "nbformat": 4,
 "nbformat_minor": 5
}
