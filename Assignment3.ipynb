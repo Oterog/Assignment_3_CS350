{
 "cells": [
  {
   "cell_type": "markdown",
   "id": "df588f7e",
   "metadata": {},
   "source": [
    "# Assignment_3_CS350\n",
    "\n",
    "<ins>Objective</ins>: An analysis of the fraud detection database, for the possibility of second-party fraud.\n",
    "\n",
    "<ins>Create</ins>: Jupyter notebook for the analysis, in Python\n",
    "\n",
    "<ins>Steps</ins>: For list of steps required to complete this assignment please visit Class 20 slides, there are 14 steps."
   ]
  },
  {
   "cell_type": "markdown",
   "id": "37b03f42-eee5-48cd-b2ce-3e1047c99cbd",
   "metadata": {},
   "source": [
    "## Step 11"
   ]
  },
  {
   "cell_type": "code",
   "execution_count": null,
   "id": "cb84ddb5-dde9-4c1c-8727-942878dff90a",
   "metadata": {},
   "outputs": [],
   "source": [
    "from neo4j import GraphDatabase\n",
    "\n",
    "# Neo4j connection details\n",
    "uri = \"bolt://localhost:7689\"  # Replace with your Neo4j URI\n",
    "username = \"neo4j\"  # Replace with your Neo4j username\n",
    "password = \"password\"  # Replace with your Neo4j password\n",
    "driver = GraphDatabase.driver(uri, auth=(username, password))\n",
    "\n",
    "# Function to write the relationships\n",
    "def write_relationships(tx, graph_name):\n",
    "    query = \"\"\"\n",
    "    CALL gds.graph.writeRelationship(\n",
    "        $graph_name,\n",
    "        'SIMILAR_TO',\n",
    "        'jaccardScore'\n",
    "    )\n",
    "    YIELD relationshipsWritten\n",
    "    RETURN relationshipsWritten\n",
    "    \"\"\"\n",
    "    result = tx.run(query, graph_name=graph_name)\n",
    "    return result.single()\n",
    "\n",
    "# Run the node similarity algorithm in mutate mode\n",
    "with driver.session() as session:\n",
    "    result = session.execute_write(write_relationships, graph_name='similarity')\n",
    "    print(f\"Relationships Created: {result['relationshipsWritten']}\")"
   ]
  },
  {
   "cell_type": "markdown",
   "id": "c7f5bb35-0914-4171-b836-7ca99a9b2ded",
   "metadata": {},
   "source": [
    "## Step 12"
   ]
  },
  {
   "cell_type": "code",
   "execution_count": null,
   "id": "5a8193d9-2245-4a19-8e14-587e8ef1800d",
   "metadata": {},
   "outputs": [],
   "source": [
    "from neo4j import GraphDatabase\n",
    "from graphdatascience import GraphDataScience\n",
    "\n",
    "# Neo4j connection details\n",
    "uri = \"bolt://localhost:7689\"  # Replace with your Neo4j URI\n",
    "username = \"neo4j\"  # Replace with your username\n",
    "password = \"password\"  # Replace with your password\n",
    "\n",
    "# Create a Neo4j driver and GDS instance\n",
    "driver = GraphDatabase.driver(uri, auth=(username, password))\n",
    "gds = GraphDataScience(driver)\n",
    "\n",
    "# Create a function to run the gds.degree.write procedure\n",
    "def compute_degree_and_write(tx, graph_name):\n",
    "    query = \"\"\"\n",
    "    CALL gds.degree.write(\n",
    "        $graph_name,\n",
    "        {\n",
    "            nodeLabels: ['Client'],\n",
    "            relationshipTypes: ['SIMILAR_TO'],\n",
    "            relationshipWeightProperty: 'jaccardScore',\n",
    "            writeProperty: 'secondPartyFraudScore'\n",
    "        }\n",
    "    )\n",
    "    \"\"\"\n",
    "    tx.run(query, graph_name='similarity')\n",
    "\n",
    "# Run the degree calculation and writing procedure in WRITE mode\n",
    "with driver.session() as session:\n",
    "    session.execute_write(compute_degree_and_write, 'similarity')\n",
    "    print(\"Second party fraud property successfully written.\")"
   ]
  },
  {
   "cell_type": "markdown",
   "id": "a12aedbd-fa1a-4f41-b382-9633214f7fa6",
   "metadata": {},
   "source": [
    "## Step 13"
   ]
  },
  {
   "cell_type": "code",
   "execution_count": null,
   "id": "a4d53e2b-37a0-4fc6-9c8e-53b871ec5443",
   "metadata": {},
   "outputs": [],
   "source": [
    "from neo4j import GraphDatabase\n",
    "\n",
    "# Neo4j connection details\n",
    "uri = \"bolt://localhost:7689\"  # Replace with your Neo4j URI\n",
    "username = \"neo4j\"  # Replace with your Neo4j username\n",
    "password = \"password\"  # Replace with your Neo4j password\n",
    "driver = GraphDatabase.driver(uri, auth=(username, password))\n",
    "\n",
    "# Function to label potential fraudsters based on degree of centrality\n",
    "def label_potential_fraudster(tx, graph_name):\n",
    "    query = \"\"\"\n",
    "    MATCH (c:Client)\n",
    "    WHERE c.secondPartyFraudScore IS NOT NULL\n",
    "    WITH percentileCont(c.secondPartyFraudScore, 0.95) AS threshold\n",
    "        MATCH (c:Client)\n",
    "        WHERE c.secondPartyFraudScore > threshold\n",
    "        SET c.SecondPartyFraudster = true\n",
    "    \"\"\"\n",
    "    tx.run(query, graph_name=graph_name)\n",
    "\n",
    "# Execute the labeling within a write transaction\n",
    "with driver.session() as session:\n",
    "    session.execute_write(label_potential_fraudster, graph_name='similarity')\n",
    "    print(\"Successfully labelled potential fraudsters with a high degree of centrality.\")"
   ]
  },
  {
   "cell_type": "markdown",
   "id": "ae85ac1f-a643-4be6-a1ac-330af0fbc7bd",
   "metadata": {},
   "source": [
    "## Step 14"
   ]
  },
  {
   "cell_type": "code",
   "execution_count": null,
   "id": "8ec77593-a7d5-492d-be6f-83daefa4cee4",
   "metadata": {},
   "outputs": [],
   "source": [
    "import pandas as pd\n",
    "from neo4j import GraphDatabase\n",
    "\n",
    "# Neo4j connection details\n",
    "uri = \"bolt://localhost:7689\"  # Replace with your Memgraph URI\n",
    "username = \"neo4j\"  # Replace with your Neo4j username\n",
    "password = \"password\"  # Replace with your Neo4j password\n",
    "driver = GraphDatabase.driver(uri, auth=(username, password))\n",
    "\n",
    "# Function to fetch fraudster clients and return as a Pandas DataFrame\n",
    "def fetch_fraudster_clients(tx):\n",
    "    query = \"\"\"\n",
    "    MATCH (c:Client)\n",
    "    WHERE c.SecondPartyFraudster = true\n",
    "    RETURN c.name AS clientName, ID(c) AS clientId\n",
    "    \"\"\"\n",
    "    result = tx.run(query)\n",
    "    \n",
    "    # Collect results into a list of dictionaries to make it easier to import into a Pandas DataFrame\n",
    "    clients = [{\"clientName\": record[\"clientName\"], \"clientId\": record[\"clientId\"]} for record in result]\n",
    "    \n",
    "    # Convert to Pandas DataFrame\n",
    "    df = pd.DataFrame(clients)\n",
    "    return df\n",
    "\n",
    "# Execute the query within a read transaction\n",
    "with driver.session() as session:\n",
    "    fraudster_df = session.execute_read(fetch_fraudster_clients)\n",
    "    \n",
    "    # Display the results in the notebook using Pandas\n",
    "    if not fraudster_df.empty:\n",
    "        print(\"List of potential fraudsters:\")\n",
    "        display(fraudster_df)  # display() is used in Jupyter to render the DataFrame\n",
    "    else:\n",
    "        print(\"No potential fraudsters found.\")\n"
   ]
  }
 ],
 "metadata": {
  "kernelspec": {
   "display_name": "Python 3 (ipykernel)",
   "language": "python",
   "name": "python3"
  },
  "language_info": {
   "codemirror_mode": {
    "name": "ipython",
    "version": 3
   },
   "file_extension": ".py",
   "mimetype": "text/x-python",
   "name": "python",
   "nbconvert_exporter": "python",
   "pygments_lexer": "ipython3",
   "version": "3.9.7"
  }
 },
 "nbformat": 4,
 "nbformat_minor": 5
}
